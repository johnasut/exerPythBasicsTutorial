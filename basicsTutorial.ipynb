{
 "cells": [
  {
   "cell_type": "markdown",
   "metadata": {},
   "source": [
    "# Python Basics Tutorial\n",
    "\n",
    "Go through the Lean the Basics section at https://www.learnpython.org/\n",
    "Run each code block in a separate cell in this Jupyter Notebook. An easy shortcut is to hit Shift-Enter after entering your code to run the code in the cell and create a new cell below."
   ]
  },
  {
   "cell_type": "code",
   "execution_count": 1,
   "metadata": {
    "tags": []
   },
   "outputs": [
    {
     "output_type": "stream",
     "name": "stdout",
     "text": "This line will be printed\n"
    }
   ],
   "source": [
    "print(\"This line will be printed\")"
   ]
  },
  {
   "cell_type": "code",
   "execution_count": 2,
   "metadata": {
    "tags": []
   },
   "outputs": [
    {
     "output_type": "stream",
     "name": "stdout",
     "text": "x is 1.\n"
    }
   ],
   "source": [
    "x = 1\n",
    "if x ==1:\n",
    "    print(\"x is 1.\")"
   ]
  },
  {
   "cell_type": "code",
   "execution_count": 3,
   "metadata": {
    "tags": []
   },
   "outputs": [
    {
     "output_type": "stream",
     "name": "stdout",
     "text": "Hello, World!\n"
    }
   ],
   "source": [
    "print(\"Hello, World!\")"
   ]
  },
  {
   "cell_type": "code",
   "execution_count": 1,
   "metadata": {
    "tags": []
   },
   "outputs": [
    {
     "output_type": "stream",
     "name": "stdout",
     "text": "7\n"
    }
   ],
   "source": [
    "myint = 7\n",
    "print(myint)"
   ]
  },
  {
   "cell_type": "code",
   "execution_count": 2,
   "metadata": {
    "tags": []
   },
   "outputs": [
    {
     "output_type": "stream",
     "name": "stdout",
     "text": "7.0\n"
    }
   ],
   "source": [
    "myfloat = 7.0\n",
    "print(myfloat)"
   ]
  },
  {
   "cell_type": "code",
   "execution_count": 3,
   "metadata": {
    "tags": []
   },
   "outputs": [
    {
     "output_type": "stream",
     "name": "stdout",
     "text": "7.0\n"
    }
   ],
   "source": [
    "myfloat = float(7)\n",
    "print(myfloat)"
   ]
  },
  {
   "cell_type": "code",
   "execution_count": 4,
   "metadata": {
    "tags": []
   },
   "outputs": [
    {
     "output_type": "stream",
     "name": "stdout",
     "text": "hello\n"
    }
   ],
   "source": [
    "mystring = 'hello'\n",
    "print(mystring)"
   ]
  },
  {
   "cell_type": "code",
   "execution_count": 5,
   "metadata": {
    "tags": []
   },
   "outputs": [
    {
     "output_type": "stream",
     "name": "stdout",
     "text": "hello\n"
    }
   ],
   "source": [
    "mystring = \"hello\"\n",
    "print(mystring)"
   ]
  },
  {
   "cell_type": "code",
   "execution_count": 6,
   "metadata": {
    "tags": []
   },
   "outputs": [
    {
     "output_type": "stream",
     "name": "stdout",
     "text": "don't worry about apostrophes\n"
    }
   ],
   "source": [
    "mystring = \"don't worry about apostrophes\"\n",
    "print(mystring)"
   ]
  },
  {
   "cell_type": "code",
   "execution_count": 7,
   "metadata": {},
   "outputs": [
    {
     "output_type": "error",
     "ename": "SyntaxError",
     "evalue": "invalid syntax (<ipython-input-7-16131c9bd9d5>, line 1)",
     "traceback": [
      "\u001b[1;36m  File \u001b[1;32m\"<ipython-input-7-16131c9bd9d5>\"\u001b[1;36m, line \u001b[1;32m1\u001b[0m\n\u001b[1;33m    mystring = 'don't worry about apostrophes'\u001b[0m\n\u001b[1;37m                    ^\u001b[0m\n\u001b[1;31mSyntaxError\u001b[0m\u001b[1;31m:\u001b[0m invalid syntax\n"
     ]
    }
   ],
   "source": [
    "mystring = 'don't worry about apostrophes'\n",
    "print(mystring)"
   ]
  },
  {
   "cell_type": "code",
   "execution_count": 9,
   "metadata": {
    "tags": []
   },
   "outputs": [
    {
     "output_type": "stream",
     "name": "stdout",
     "text": "3\nHello World\n"
    }
   ],
   "source": [
    "one = 1\n",
    "two = 2\n",
    "three = one + two\n",
    "print(three)\n",
    "\n",
    "hello = \"Hello\"\n",
    "world = \"World\"\n",
    "helloworld = hello + \" \" + world\n",
    "print(helloworld)"
   ]
  },
  {
   "cell_type": "code",
   "execution_count": 10,
   "metadata": {
    "tags": []
   },
   "outputs": [
    {
     "output_type": "stream",
     "name": "stdout",
     "text": "3 4\n"
    }
   ],
   "source": [
    "a, b = 3, 4\n",
    "print(a,b)"
   ]
  },
  {
   "cell_type": "code",
   "execution_count": 11,
   "metadata": {},
   "outputs": [
    {
     "output_type": "error",
     "ename": "TypeError",
     "evalue": "unsupported operand type(s) for +: 'int' and 'str'",
     "traceback": [
      "\u001b[1;31m---------------------------------------------------------------------------\u001b[0m",
      "\u001b[1;31mTypeError\u001b[0m                                 Traceback (most recent call last)",
      "\u001b[1;32m<ipython-input-11-479d9774beff>\u001b[0m in \u001b[0;36m<module>\u001b[1;34m\u001b[0m\n\u001b[0;32m      3\u001b[0m \u001b[0mhello\u001b[0m \u001b[1;33m=\u001b[0m \u001b[1;34m\"Hello\"\u001b[0m\u001b[1;33m\u001b[0m\u001b[1;33m\u001b[0m\u001b[0m\n\u001b[0;32m      4\u001b[0m \u001b[1;33m\u001b[0m\u001b[0m\n\u001b[1;32m----> 5\u001b[1;33m \u001b[0mprint\u001b[0m\u001b[1;33m(\u001b[0m\u001b[0mone\u001b[0m \u001b[1;33m+\u001b[0m \u001b[0mtwo\u001b[0m \u001b[1;33m+\u001b[0m \u001b[0mhello\u001b[0m\u001b[1;33m)\u001b[0m\u001b[1;33m\u001b[0m\u001b[1;33m\u001b[0m\u001b[0m\n\u001b[0m",
      "\u001b[1;31mTypeError\u001b[0m: unsupported operand type(s) for +: 'int' and 'str'"
     ]
    }
   ],
   "source": [
    "one = 1\n",
    "two = 2\n",
    "hello = \"Hello\"\n",
    "\n",
    "print(one + two + hello)"
   ]
  },
  {
   "cell_type": "code",
   "execution_count": 12,
   "metadata": {
    "tags": []
   },
   "outputs": [
    {
     "output_type": "stream",
     "name": "stdout",
     "text": "String: hello\nFloat: 10.000000\nInteger: 20\n"
    }
   ],
   "source": [
    "mystring = \"hello\"\n",
    "myfloat = 10.0\n",
    "myint = 20\n",
    "\n",
    "# testing code\n",
    "if mystring == \"hello\":\n",
    "    print(\"String: %s\" % mystring)\n",
    "if isinstance(myfloat, float) and myfloat == 10.0:\n",
    "    print(\"Float: %f\" % myfloat)\n",
    "if isinstance(myint, int) and myint == 20:\n",
    "    print(\"Integer: %d\" % myint)"
   ]
  },
  {
   "cell_type": "code",
   "execution_count": 15,
   "metadata": {
    "tags": []
   },
   "outputs": [
    {
     "output_type": "stream",
     "name": "stdout",
     "text": "2\n4\n6\n2\n4\n6\n"
    }
   ],
   "source": [
    "mylist = []\n",
    "mylist.append(2)\n",
    "mylist.append(4)\n",
    "mylist.append(6)\n",
    "print(mylist[0])\n",
    "print(mylist[1])\n",
    "print(mylist[2])\n",
    "\n",
    "for x in mylist:\n",
    "    print(x)"
   ]
  },
  {
   "cell_type": "code",
   "execution_count": 16,
   "metadata": {},
   "outputs": [
    {
     "output_type": "error",
     "ename": "IndexError",
     "evalue": "list index out of range",
     "traceback": [
      "\u001b[1;31m---------------------------------------------------------------------------\u001b[0m",
      "\u001b[1;31mIndexError\u001b[0m                                Traceback (most recent call last)",
      "\u001b[1;32m<ipython-input-16-ac9eeac6db06>\u001b[0m in \u001b[0;36m<module>\u001b[1;34m\u001b[0m\n\u001b[0;32m      1\u001b[0m \u001b[0mmylist\u001b[0m \u001b[1;33m=\u001b[0m \u001b[1;33m[\u001b[0m\u001b[1;36m1\u001b[0m\u001b[1;33m,\u001b[0m\u001b[1;36m2\u001b[0m\u001b[1;33m,\u001b[0m\u001b[1;36m3\u001b[0m\u001b[1;33m]\u001b[0m\u001b[1;33m\u001b[0m\u001b[1;33m\u001b[0m\u001b[0m\n\u001b[1;32m----> 2\u001b[1;33m \u001b[0mprint\u001b[0m\u001b[1;33m(\u001b[0m\u001b[0mmylist\u001b[0m\u001b[1;33m[\u001b[0m\u001b[1;36m10\u001b[0m\u001b[1;33m]\u001b[0m\u001b[1;33m)\u001b[0m\u001b[1;33m\u001b[0m\u001b[1;33m\u001b[0m\u001b[0m\n\u001b[0m",
      "\u001b[1;31mIndexError\u001b[0m: list index out of range"
     ]
    }
   ],
   "source": [
    "mylist = [1,2,3]\n",
    "print(mylist[10])"
   ]
  },
  {
   "cell_type": "code",
   "execution_count": 19,
   "metadata": {
    "tags": []
   },
   "outputs": [
    {
     "output_type": "stream",
     "name": "stdout",
     "text": "[1, 2, 3]\n['hello', 'world']\nThe second name on the names list is Eric\n"
    }
   ],
   "source": [
    "numbers = []\n",
    "strings = []\n",
    "names = [\"John\", \"Eric\", \"Jessica\"]\n",
    "\n",
    "numbers.append(1)\n",
    "numbers.append(2)\n",
    "numbers.append(3)\n",
    "strings.append(\"hello\")\n",
    "strings.append(\"world\")\n",
    "second_name = names[1]\n",
    "\n",
    "\n",
    "# this code should write out the filled arrays and the second name in the names list (Eric).\n",
    "print(numbers)\n",
    "print(strings)\n",
    "print(\"The second name on the names list is %s\" % second_name)"
   ]
  },
  {
   "cell_type": "code",
   "execution_count": 20,
   "metadata": {
    "tags": []
   },
   "outputs": [
    {
     "output_type": "stream",
     "name": "stdout",
     "text": "2.5\n"
    }
   ],
   "source": [
    "number = 1+2*3/4.0\n",
    "print(number)"
   ]
  },
  {
   "cell_type": "code",
   "execution_count": 21,
   "metadata": {
    "tags": []
   },
   "outputs": [
    {
     "output_type": "stream",
     "name": "stdout",
     "text": "2\n"
    }
   ],
   "source": [
    "remainder = 11 % 3\n",
    "print(remainder)"
   ]
  },
  {
   "cell_type": "code",
   "execution_count": 22,
   "metadata": {
    "tags": []
   },
   "outputs": [
    {
     "output_type": "stream",
     "name": "stdout",
     "text": "49\n8\n"
    }
   ],
   "source": [
    "squared = 7 ** 2\n",
    "cubed = 2 ** 3\n",
    "print(squared)\n",
    "print(cubed)"
   ]
  },
  {
   "cell_type": "code",
   "execution_count": 23,
   "metadata": {
    "tags": []
   },
   "outputs": [
    {
     "output_type": "stream",
     "name": "stdout",
     "text": "Hello World\n"
    }
   ],
   "source": [
    "helloworld = \"Hello\" + \" \" + \"World\"\n",
    "print(helloworld)"
   ]
  },
  {
   "cell_type": "code",
   "execution_count": 25,
   "metadata": {
    "tags": []
   },
   "outputs": [
    {
     "output_type": "stream",
     "name": "stdout",
     "text": "Hello Hello Hello Hello Hello Hello Hello Hello Hello Hello Hello Hello Hello Hello Hello Hello Hello Hello Hello \n"
    }
   ],
   "source": [
    "lotsofhellos = \"Hello \" * 19\n",
    "print(lotsofhellos)"
   ]
  },
  {
   "cell_type": "code",
   "execution_count": 26,
   "metadata": {
    "tags": []
   },
   "outputs": [
    {
     "output_type": "stream",
     "name": "stdout",
     "text": "[1, 3, 5, 7, 2, 4, 6, 8]\n"
    }
   ],
   "source": [
    "even_numbers = [2,4,6,8]\n",
    "odd_numbers = [1,3,5,7]\n",
    "all_numbers = odd_numbers + even_numbers\n",
    "print(all_numbers)"
   ]
  },
  {
   "cell_type": "code",
   "execution_count": 27,
   "metadata": {
    "tags": []
   },
   "outputs": [
    {
     "output_type": "stream",
     "name": "stdout",
     "text": "[1, 2, 3, 1, 2, 3, 1, 2, 3]\n"
    }
   ],
   "source": [
    "print([1,2,3] * 3)"
   ]
  },
  {
   "cell_type": "code",
   "execution_count": 31,
   "metadata": {
    "tags": []
   },
   "outputs": [
    {
     "output_type": "stream",
     "name": "stdout",
     "text": "x_list contains 10 objects\ny_list contains 10 objects\nbig_list contains 20 objects\nAlmost there...\nGreat!\n"
    }
   ],
   "source": [
    "x = object()\n",
    "y = object()\n",
    "\n",
    "# TODO: change this code\n",
    "x_list = [x] * 10\n",
    "y_list = [y] * 10\n",
    "big_list = x_list + y_list\n",
    "\n",
    "print(\"x_list contains %d objects\" % len(x_list))\n",
    "print(\"y_list contains %d objects\" % len(y_list))\n",
    "print(\"big_list contains %d objects\" % len(big_list))\n",
    "\n",
    "# testing code\n",
    "if x_list.count(x) == 10 and y_list.count(y) == 10:\n",
    "    print(\"Almost there...\")\n",
    "if big_list.count(x) == 10 and big_list.count(y) == 10:\n",
    "    print(\"Great!\")"
   ]
  },
  {
   "cell_type": "code",
   "execution_count": 34,
   "metadata": {
    "tags": []
   },
   "outputs": [
    {
     "output_type": "stream",
     "name": "stdout",
     "text": "Hello, John!\n"
    }
   ],
   "source": [
    "name = \"John\"\n",
    "print(\"Hello, %s!\" % name)"
   ]
  },
  {
   "cell_type": "code",
   "execution_count": 35,
   "metadata": {
    "tags": []
   },
   "outputs": [
    {
     "output_type": "stream",
     "name": "stdout",
     "text": "John is 37 years old.\n"
    }
   ],
   "source": [
    "name = \"John\"\n",
    "age = 37\n",
    "print(\"%s is %d years old.\" % (name, age))"
   ]
  },
  {
   "cell_type": "code",
   "execution_count": 36,
   "metadata": {
    "tags": []
   },
   "outputs": [
    {
     "output_type": "stream",
     "name": "stdout",
     "text": "A list: [1, 2, 3]\n"
    }
   ],
   "source": [
    "mylist = [1,2,3]\n",
    "print(\"A list: %s\" % mylist)"
   ]
  },
  {
   "cell_type": "code",
   "execution_count": 40,
   "metadata": {
    "tags": []
   },
   "outputs": [
    {
     "output_type": "stream",
     "name": "stdout",
     "text": "Hello John Saunders. Your current balance is 53.44.\n"
    }
   ],
   "source": [
    "data = (\"John\", \"Saunders\", 53.44)\n",
    "format_string = \"Hello\"\n",
    "\n",
    "print(\"%s %s %s. Your current balance is %.2f.\" % (format_string, data[0], data[1], data[2]))"
   ]
  },
  {
   "cell_type": "code",
   "execution_count": 42,
   "metadata": {
    "tags": []
   },
   "outputs": [
    {
     "output_type": "stream",
     "name": "stdout",
     "text": "Hello world! Hello world!\n"
    }
   ],
   "source": [
    "astring = \"Hello world!\"\n",
    "astring2 = 'Hello world!'\n",
    "print(astring + \" \" + astring2)"
   ]
  },
  {
   "cell_type": "code",
   "execution_count": 43,
   "metadata": {
    "tags": []
   },
   "outputs": [
    {
     "output_type": "stream",
     "name": "stdout",
     "text": "Single quotes are ' '\n12\n"
    }
   ],
   "source": [
    "astring = \"Hello world!\"\n",
    "print(\"Single quotes are ' '\")\n",
    "print(len(astring))"
   ]
  },
  {
   "cell_type": "code",
   "execution_count": 45,
   "metadata": {
    "tags": []
   },
   "outputs": [
    {
     "output_type": "stream",
     "name": "stdout",
     "text": "4\n"
    }
   ],
   "source": [
    "print(astring.index(\"o\"))"
   ]
  },
  {
   "cell_type": "code",
   "execution_count": 46,
   "metadata": {
    "tags": []
   },
   "outputs": [
    {
     "output_type": "stream",
     "name": "stdout",
     "text": "3\n"
    }
   ],
   "source": [
    "print(astring.count(\"l\"))"
   ]
  },
  {
   "cell_type": "code",
   "execution_count": 47,
   "metadata": {
    "tags": []
   },
   "outputs": [
    {
     "output_type": "stream",
     "name": "stdout",
     "text": "lo w\n"
    }
   ],
   "source": [
    "print(astring[3:7])"
   ]
  },
  {
   "cell_type": "code",
   "execution_count": 48,
   "metadata": {
    "tags": []
   },
   "outputs": [
    {
     "output_type": "stream",
     "name": "stdout",
     "text": "l \n"
    }
   ],
   "source": [
    "print(astring[3:7:2])"
   ]
  },
  {
   "cell_type": "code",
   "execution_count": 49,
   "metadata": {
    "tags": []
   },
   "outputs": [
    {
     "output_type": "stream",
     "name": "stdout",
     "text": "lo w\nlo w\n"
    }
   ],
   "source": [
    "print(astring[3:7])\n",
    "print(astring[3:7:1])"
   ]
  },
  {
   "cell_type": "code",
   "execution_count": 50,
   "metadata": {
    "tags": []
   },
   "outputs": [
    {
     "output_type": "stream",
     "name": "stdout",
     "text": "!dlrow olleH\n"
    }
   ],
   "source": [
    "print(astring[::-1])"
   ]
  },
  {
   "cell_type": "code",
   "execution_count": 51,
   "metadata": {
    "tags": []
   },
   "outputs": [
    {
     "output_type": "stream",
     "name": "stdout",
     "text": "HELLO WORLD!\nhello world!\n"
    }
   ],
   "source": [
    "print(astring.upper())\n",
    "print(astring.lower())"
   ]
  },
  {
   "cell_type": "code",
   "execution_count": 52,
   "metadata": {
    "tags": []
   },
   "outputs": [
    {
     "output_type": "stream",
     "name": "stdout",
     "text": "True\nFalse\n"
    }
   ],
   "source": [
    "print(astring.startswith(\"Hello\"))\n",
    "print(astring.endswith(\"asdfasdfasdfjkl;\"))"
   ]
  },
  {
   "cell_type": "code",
   "execution_count": 54,
   "metadata": {
    "tags": []
   },
   "outputs": [
    {
     "output_type": "stream",
     "name": "stdout",
     "text": "['Hello', 'world!']\n"
    }
   ],
   "source": [
    "afewwords = astring.split(\" \")\n",
    "print(afewwords)"
   ]
  },
  {
   "cell_type": "code",
   "execution_count": 56,
   "metadata": {
    "tags": []
   },
   "outputs": [
    {
     "output_type": "stream",
     "name": "stdout",
     "text": "Length of s = 20\nThe first occurrence of the letter a = 8\na occurs 2 times\nThe first five characters are 'Strin'\nThe next five characters are 'gs ar'\nThe thirteenth character is 'a'\nThe characters with odd index are 'tig r wsm!'\nThe last five characters are 'some!'\nString in uppercase: STRINGS ARE AWESOME!\nString in lowercase: strings are awesome!\nString starts with 'Str'. Good!\nString ends with 'ome!'. Good!\nSplit the words of the string: ['Strings', 'are', 'awesome!']\n"
    }
   ],
   "source": [
    "s = \"Strings are awesome!\"\n",
    "# Length should be 20\n",
    "print(\"Length of s = %d\" % len(s))\n",
    "\n",
    "# First occurrence of \"a\" should be at index 8\n",
    "print(\"The first occurrence of the letter a = %d\" % s.index(\"a\"))\n",
    "\n",
    "# Number of a's should be 2\n",
    "print(\"a occurs %d times\" % s.count(\"a\"))\n",
    "\n",
    "# Slicing the string into bits\n",
    "print(\"The first five characters are '%s'\" % s[:5]) # Start to 5\n",
    "print(\"The next five characters are '%s'\" % s[5:10]) # 5 to 10\n",
    "print(\"The thirteenth character is '%s'\" % s[12]) # Just number 12\n",
    "print(\"The characters with odd index are '%s'\" %s[1::2]) #(0-based indexing)\n",
    "print(\"The last five characters are '%s'\" % s[-5:]) # 5th-from-last to end\n",
    "\n",
    "# Convert everything to uppercase\n",
    "print(\"String in uppercase: %s\" % s.upper())\n",
    "\n",
    "# Convert everything to lowercase\n",
    "print(\"String in lowercase: %s\" % s.lower())\n",
    "\n",
    "# Check how a string starts\n",
    "if s.startswith(\"Str\"):\n",
    "    print(\"String starts with 'Str'. Good!\")\n",
    "\n",
    "# Check how a string ends\n",
    "if s.endswith(\"ome!\"):\n",
    "    print(\"String ends with 'ome!'. Good!\")\n",
    "\n",
    "# Split the string into three separate strings,\n",
    "# each containing only a word\n",
    "print(\"Split the words of the string: %s\" % s.split(\" \"))"
   ]
  },
  {
   "cell_type": "code",
   "execution_count": 57,
   "metadata": {
    "tags": []
   },
   "outputs": [
    {
     "output_type": "stream",
     "name": "stdout",
     "text": "True\nFalse\nTrue\n"
    }
   ],
   "source": [
    "x = 2\n",
    "print(x == 2)\n",
    "print(x == 3)\n",
    "print(x < 3)"
   ]
  },
  {
   "cell_type": "code",
   "execution_count": 60,
   "metadata": {
    "tags": []
   },
   "outputs": [
    {
     "output_type": "stream",
     "name": "stdout",
     "text": "My name is John, and I am also 37 years old.\nYour name is either Rick or Morty\n"
    }
   ],
   "source": [
    "name = \"John\"\n",
    "age = 37\n",
    "if name == \"John\" and age == 37:\n",
    "    print(\"My name is John, and I am also 37 years old.\")\n",
    "\n",
    "if name == \"John\" or name == \"Morty\":\n",
    "    print(\"Your name is either Rick or Morty\")"
   ]
  },
  {
   "cell_type": "code",
   "execution_count": 61,
   "metadata": {
    "tags": []
   },
   "outputs": [
    {
     "output_type": "stream",
     "name": "stdout",
     "text": "Your name is either Rick or Morty\n"
    }
   ],
   "source": [
    "if name in [\"John\", \"Rick\"]:\n",
    "    print(\"Your name is either Rick or Morty\")"
   ]
  },
  {
   "cell_type": "code",
   "execution_count": 63,
   "metadata": {
    "tags": []
   },
   "outputs": [
    {
     "output_type": "stream",
     "name": "stdout",
     "text": "that one\n"
    }
   ],
   "source": [
    "statement = False\n",
    "another_statement = True\n",
    "if statement is True:\n",
    "    print(\"this one\")\n",
    "elif another_statement is True:\n",
    "    print(\"that one\")\n",
    "else:\n",
    "    print(\"the other one\")"
   ]
  },
  {
   "cell_type": "code",
   "execution_count": 64,
   "metadata": {
    "tags": []
   },
   "outputs": [
    {
     "output_type": "stream",
     "name": "stdout",
     "text": "this one\n"
    }
   ],
   "source": [
    "statement = True\n",
    "another_statement = True\n",
    "if statement is True:\n",
    "    print(\"this one\")\n",
    "elif another_statement is True:\n",
    "    print(\"that one\")\n",
    "else:\n",
    "    print(\"the other one\")"
   ]
  },
  {
   "cell_type": "code",
   "execution_count": 65,
   "metadata": {
    "tags": []
   },
   "outputs": [
    {
     "output_type": "stream",
     "name": "stdout",
     "text": "x equals two!\n"
    }
   ],
   "source": [
    "x = 2\n",
    "if x == 2:\n",
    "    print(\"x equals two!\")\n",
    "else:\n",
    "    print(\"x does not equal two.\")"
   ]
  },
  {
   "cell_type": "code",
   "execution_count": 67,
   "metadata": {
    "tags": []
   },
   "outputs": [
    {
     "output_type": "stream",
     "name": "stdout",
     "text": "True\nFalse\nTrue\n"
    }
   ],
   "source": [
    "x = [2,4,6]\n",
    "y = [2,4,6]\n",
    "print(x == y)\n",
    "print(x is y)\n",
    "print(x is x)"
   ]
  },
  {
   "cell_type": "code",
   "execution_count": 68,
   "metadata": {
    "tags": []
   },
   "outputs": [
    {
     "output_type": "stream",
     "name": "stdout",
     "text": "True\nFalse\n"
    }
   ],
   "source": [
    "print(not False)\n",
    "print((not False) == (False))"
   ]
  },
  {
   "cell_type": "code",
   "execution_count": 69,
   "metadata": {
    "tags": []
   },
   "outputs": [
    {
     "output_type": "stream",
     "name": "stdout",
     "text": "1\n2\n3\n4\n5\n6\n"
    }
   ],
   "source": [
    "number = 16\n",
    "second_number = 0\n",
    "first_array = [1,0,0]\n",
    "second_array = [1,2]\n",
    "\n",
    "if number > 15:\n",
    "    print(\"1\")\n",
    "\n",
    "if first_array:\n",
    "    print(\"2\")\n",
    "\n",
    "if len(second_array) == 2:\n",
    "    print(\"3\")\n",
    "\n",
    "if len(first_array) + len(second_array) == 5:\n",
    "    print(\"4\")\n",
    "\n",
    "if first_array and first_array[0] == 1:\n",
    "    print(\"5\")\n",
    "\n",
    "if not second_number:\n",
    "    print(\"6\")"
   ]
  },
  {
   "cell_type": "code",
   "execution_count": 70,
   "metadata": {
    "tags": []
   },
   "outputs": [
    {
     "output_type": "stream",
     "name": "stdout",
     "text": "2\n3\n5\n7\n"
    }
   ],
   "source": [
    "primes = [2,3,5,7]\n",
    "for prime in primes:\n",
    "    print(prime)"
   ]
  },
  {
   "cell_type": "code",
   "execution_count": 72,
   "metadata": {
    "tags": []
   },
   "outputs": [
    {
     "output_type": "stream",
     "name": "stdout",
     "text": "0\n1\n2\n3\n4\n\n3\n4\n5\n\n3\n5\n7\n"
    }
   ],
   "source": [
    "for x in range(5):\n",
    "    print(x)\n",
    "print(\"\")\n",
    "for x in range(3,6):\n",
    "    print(x)\n",
    "print(\"\")\n",
    "for x in range(3,8,2):\n",
    "    print(x)"
   ]
  },
  {
   "cell_type": "code",
   "execution_count": 74,
   "metadata": {
    "tags": []
   },
   "outputs": [
    {
     "output_type": "stream",
     "name": "stdout",
     "text": "0\n1\n2\n3\n4\n"
    }
   ],
   "source": [
    "count = 0\n",
    "while count < 5:\n",
    "    print(count)\n",
    "    count = count + 1"
   ]
  },
  {
   "cell_type": "code",
   "execution_count": 75,
   "metadata": {
    "tags": []
   },
   "outputs": [
    {
     "output_type": "stream",
     "name": "stdout",
     "text": "0\n1\n2\n3\n4\n"
    }
   ],
   "source": [
    "count = 0\n",
    "while count < 5:\n",
    "    print(count)\n",
    "    count += 1"
   ]
  },
  {
   "cell_type": "code",
   "execution_count": 79,
   "metadata": {
    "tags": []
   },
   "outputs": [
    {
     "output_type": "stream",
     "name": "stdout",
     "text": "0\n1\n2\n3\n4\n\n1\n3\n5\n7\n9\n"
    }
   ],
   "source": [
    "count = 0\n",
    "while True:\n",
    "    print(count)\n",
    "    count += 1\n",
    "    if count >= 5:\n",
    "        break\n",
    "print(\"\")\n",
    "for x in range(10):\n",
    "    if x % 2 == 0:\n",
    "        continue\n",
    "    print(x)"
   ]
  },
  {
   "cell_type": "code",
   "execution_count": 80,
   "metadata": {
    "tags": []
   },
   "outputs": [
    {
     "output_type": "stream",
     "name": "stdout",
     "text": "0\n1\n2\n3\n4\ncount value reached 5\n1\n2\n3\n4\n"
    }
   ],
   "source": [
    "count = 0\n",
    "while(count < 5):\n",
    "    print(count)\n",
    "    count += 1\n",
    "else:\n",
    "    print(\"count value reached %d\" % (count))\n",
    "\n",
    "for i in range(1,10):\n",
    "    if(i % 5 == 0):\n",
    "        break\n",
    "    print(i)\n",
    "else:\n",
    "    print(\"this is not printed because for loop is terminated because of break but not due to fail in condition\")"
   ]
  },
  {
   "cell_type": "code",
   "execution_count": 83,
   "metadata": {
    "tags": []
   },
   "outputs": [
    {
     "output_type": "stream",
     "name": "stdout",
     "text": "402\n984\n360\n408\n980\n544\n390\n984\n592\n236\n942\n386\n462\n418\n344\n236\n566\n978\n328\n162\n758\n918\n"
    }
   ],
   "source": [
    "numbers = [\n",
    "    951, 402, 984, 651, 360, 69, 408, 319, 601, 485, 980, 507, 725, 547, 544,\n",
    "    615, 83, 165, 141, 501, 263, 617, 865, 575, 219, 390, 984, 592, 236, 105, 942, 941,\n",
    "    386, 462, 47, 418, 907, 344, 236, 375, 823, 566, 597, 978, 328, 615, 953, 345,\n",
    "    399, 162, 758, 219, 918, 237, 412, 566, 826, 248, 866, 950, 626, 949, 687, 217,\n",
    "    815, 67, 104, 58, 512, 24, 892, 894, 767, 553, 81, 379, 843, 831, 445, 742, 717,\n",
    "    958, 609, 842, 451, 688, 753, 854, 685, 93, 857, 440, 380, 126, 721, 328, 753, 470,\n",
    "    743, 527\n",
    "]\n",
    "\n",
    "for number in numbers:\n",
    "    if(number%237==0):\n",
    "        break\n",
    "    elif(number%2==0):\n",
    "        print(number)\n",
    " # Only worked because no numbers before 237 were multiples of 237 (if I'm understanding the % correctly)."
   ]
  },
  {
   "cell_type": "code",
   "execution_count": 84,
   "metadata": {
    "tags": []
   },
   "outputs": [
    {
     "output_type": "stream",
     "name": "stdout",
     "text": "402\n984\n360\n408\n980\n544\n390\n984\n592\n236\n942\n386\n462\n418\n344\n236\n566\n978\n328\n162\n758\n918\n"
    }
   ],
   "source": [
    "# Their solution...\n",
    "numbers = [\n",
    "    951, 402, 984, 651, 360, 69, 408, 319, 601, 485, 980, 507, 725, 547, 544,\n",
    "    615, 83, 165, 141, 501, 263, 617, 865, 575, 219, 390, 984, 592, 236, 105, 942, 941,\n",
    "    386, 462, 47, 418, 907, 344, 236, 375, 823, 566, 597, 978, 328, 615, 953, 345,\n",
    "    399, 162, 758, 219, 918, 237, 412, 566, 826, 248, 866, 950, 626, 949, 687, 217,\n",
    "    815, 67, 104, 58, 512, 24, 892, 894, 767, 553, 81, 379, 843, 831, 445, 742, 717,\n",
    "    958, 609, 842, 451, 688, 753, 854, 685, 93, 857, 440, 380, 126, 721, 328, 753, 470,\n",
    "    743, 527\n",
    "]\n",
    "\n",
    "for number in numbers:\n",
    "    if(number==237):\n",
    "        break\n",
    "    if(number%2==1):\n",
    "        continue\n",
    "    print(number)"
   ]
  },
  {
   "cell_type": "code",
   "execution_count": 85,
   "metadata": {},
   "outputs": [],
   "source": [
    "def my_function():\n",
    "    print(\"Hello form My Function!\")"
   ]
  },
  {
   "cell_type": "code",
   "execution_count": 86,
   "metadata": {},
   "outputs": [],
   "source": [
    "def my_function_with_args(username, greeting):\n",
    "    print(\"Hello, %s, from My Function!, I wish you %s\" % (username, greeting))"
   ]
  },
  {
   "cell_type": "code",
   "execution_count": 87,
   "metadata": {},
   "outputs": [],
   "source": [
    "def sum_two_numbers(a, b):\n",
    "    return a + b"
   ]
  },
  {
   "cell_type": "code",
   "execution_count": 90,
   "metadata": {
    "tags": []
   },
   "outputs": [
    {
     "output_type": "stream",
     "name": "stdout",
     "text": "Hello form My Function!\nHello, John Saunders, from My Function!, I wish you an end to 2020!\n14\n"
    }
   ],
   "source": [
    "my_function()\n",
    "my_function_with_args(\"John Saunders\", \"an end to 2020!\")\n",
    "x = sum_two_numbers(6,8)\n",
    "print(x)"
   ]
  },
  {
   "cell_type": "code",
   "execution_count": 95,
   "metadata": {
    "tags": []
   },
   "outputs": [
    {
     "output_type": "stream",
     "name": "stdout",
     "text": "More organized code is a benefit of functions!\nNone\nMore readable code is a benefit of functions!\nNone\nEasier code reuse is a benefit of functions!\nNone\nAllowing programmers to share and connect code together is a benefit of functions!\nNone\n"
    }
   ],
   "source": [
    "# Having build_sentence \"print\" instead of \"return\" creates additional lines. Interesting result.\n",
    "\n",
    "def list_benefits():\n",
    "    return \"More organized code\", \"More readable code\", \"Easier code reuse\", \"Allowing programmers to share and connect code together\"\n",
    "\n",
    "def build_sentence(benefit):\n",
    "    print(\"%s is a benefit of functions!\" % benefit)\n",
    "\n",
    "def name_the_benefits_of_functions():\n",
    "    list_of_benefits = list_benefits()\n",
    "    for benefit in list_of_benefits:\n",
    "        print(build_sentence(benefit))\n",
    "\n",
    "name_the_benefits_of_functions()"
   ]
  },
  {
   "cell_type": "code",
   "execution_count": 97,
   "metadata": {
    "tags": []
   },
   "outputs": [
    {
     "output_type": "stream",
     "name": "stdout",
     "text": "More organized code is a benefit of functions!\nMore readable code is a benefit of functions!\nEasier code reuse is a benefit of functions!\nAllowing programmers to share and connect code together is a benefit of functions!\n"
    }
   ],
   "source": [
    "def list_benefits():\n",
    "    return \"More organized code\", \"More readable code\", \"Easier code reuse\", \"Allowing programmers to share and connect code together\"\n",
    "\n",
    "def build_sentence(benefit):\n",
    "    return \"%s is a benefit of functions!\" % benefit\n",
    "\n",
    "def name_the_benefits_of_functions():\n",
    "    list_of_benefits = list_benefits()\n",
    "    for benefit in list_of_benefits:\n",
    "        print(build_sentence(benefit))\n",
    "\n",
    "name_the_benefits_of_functions()"
   ]
  },
  {
   "cell_type": "code",
   "execution_count": 96,
   "metadata": {
    "tags": []
   },
   "outputs": [
    {
     "output_type": "stream",
     "name": "stdout",
     "text": "More organized code is a benefit of functions!\nNone\nMore readable code is a benefit of functions!\nNone\nEasier code reuse is a benefit of functions!\nNone\nAllowing programmers to share and connect code together is a benefit of functions!\nNone\n"
    }
   ],
   "source": [
    "# It's possible to insert the list of strings instead of referencing it via def list_benefits().\n",
    "\n",
    "def build_sentence(benefit):\n",
    "    print(\"%s is a benefit of functions!\" % benefit)\n",
    "\n",
    "def name_the_benefits_of_functions():\n",
    "    list_of_benefits = \"More organized code\", \"More readable code\", \"Easier code reuse\", \"Allowing programmers to share and connect code together\"\n",
    "    for benefit in list_of_benefits:\n",
    "        print(build_sentence(benefit))\n",
    "\n",
    "name_the_benefits_of_functions()"
   ]
  },
  {
   "cell_type": "code",
   "execution_count": 98,
   "metadata": {
    "tags": []
   },
   "outputs": [
    {
     "output_type": "stream",
     "name": "stdout",
     "text": "More organized code is a benefit of functions!\nMore readable code is a benefit of functions!\nEasier code reuse is a benefit of functions!\nAllowing programmers to share and connect code together is a benefit of functions!\n"
    }
   ],
   "source": [
    "def build_sentence(benefit):\n",
    "    return \"%s is a benefit of functions!\" % benefit\n",
    "\n",
    "def name_the_benefits_of_functions():\n",
    "    list_of_benefits = \"More organized code\", \"More readable code\", \"Easier code reuse\", \"Allowing programmers to share and connect code together\"\n",
    "    for benefit in list_of_benefits:\n",
    "        print(build_sentence(benefit))\n",
    "\n",
    "name_the_benefits_of_functions()"
   ]
  },
  {
   "cell_type": "code",
   "execution_count": 103,
   "metadata": {
    "tags": []
   },
   "outputs": [
    {
     "output_type": "stream",
     "name": "stdout",
     "text": "boo\n"
    }
   ],
   "source": [
    "class MyClass:\n",
    "    variable = \"boo\"\n",
    "\n",
    "    def function(self):\n",
    "        print(\"This is a message inside of the class.\")\n",
    "\n",
    "myobjectx = MyClass()\n",
    "\n",
    "print(myobjectx.variable)"
   ]
  },
  {
   "cell_type": "code",
   "execution_count": 104,
   "metadata": {
    "tags": []
   },
   "outputs": [
    {
     "output_type": "stream",
     "name": "stdout",
     "text": "boo\n... yak. Don't talk back.\n"
    }
   ],
   "source": [
    "class MyClass:\n",
    "    variable = \"boo\"\n",
    "\n",
    "    def function(self):\n",
    "        print(\"This is a message inside of the class.\")\n",
    "\n",
    "myobjectx = MyClass()\n",
    "myobjecty = MyClass()\n",
    "\n",
    "myobjecty.variable = \"... yak. Don't talk back.\"\n",
    "\n",
    "print(myobjectx.variable)\n",
    "print(myobjecty.variable)"
   ]
  },
  {
   "cell_type": "code",
   "execution_count": 105,
   "metadata": {
    "tags": []
   },
   "outputs": [
    {
     "output_type": "stream",
     "name": "stdout",
     "text": "This is a message inside of the class.\n"
    }
   ],
   "source": [
    "myobjectx.function()"
   ]
  },
  {
   "cell_type": "code",
   "execution_count": 106,
   "metadata": {
    "tags": []
   },
   "outputs": [
    {
     "output_type": "stream",
     "name": "stdout",
     "text": "Fer is a red convertible worth $60000.00.\nJump is a blue van worth $10000.00.\n"
    }
   ],
   "source": [
    "class Vehicle:\n",
    "    name = \"\"\n",
    "    kind = \"car\"\n",
    "    color = \"\"\n",
    "    value = 100.00\n",
    "    def description(self):\n",
    "        desc_str = \"%s is a %s %s worth $%.2f.\" % (self.name, self.color, self.kind, self.value)\n",
    "        return desc_str\n",
    "\n",
    "car1=Vehicle()\n",
    "car2=Vehicle()\n",
    "\n",
    "car1.name = \"Fer\"\n",
    "car1.kind = \"convertible\"\n",
    "car1.color = \"red\"\n",
    "car1.value = 60000.00\n",
    "\n",
    "car2.name = \"Jump\"\n",
    "car2.kind = \"van\"\n",
    "car2.color = \"blue\"\n",
    "car2.value = 10000.00\n",
    "\n",
    "print(car1.description())\n",
    "print(car2.description())"
   ]
  },
  {
   "cell_type": "code",
   "execution_count": 107,
   "metadata": {
    "tags": []
   },
   "outputs": [
    {
     "output_type": "stream",
     "name": "stdout",
     "text": "{'John': 938477566, 'Jack': 938377264, 'Jill': 947662781}\n"
    }
   ],
   "source": [
    "phonebook = {}\n",
    "phonebook[\"John\"] = 938477566\n",
    "phonebook[\"Jack\"] = 938377264\n",
    "phonebook[\"Jill\"] = 947662781\n",
    "print(phonebook)"
   ]
  },
  {
   "cell_type": "code",
   "execution_count": 108,
   "metadata": {
    "tags": []
   },
   "outputs": [
    {
     "output_type": "stream",
     "name": "stdout",
     "text": "{'Tom': 938471111, 'Dick': 938372222, 'Harry': 947663333}\n"
    }
   ],
   "source": [
    "phonebook = {\n",
    "    \"Tom\" : 938471111,\n",
    "    \"Dick\" : 938372222,\n",
    "    \"Harry\" : 947663333\n",
    "}\n",
    "print(phonebook)"
   ]
  },
  {
   "cell_type": "code",
   "execution_count": 109,
   "metadata": {
    "tags": []
   },
   "outputs": [
    {
     "output_type": "stream",
     "name": "stdout",
     "text": "Phone number of Tom is 938471111\nPhone number of Dick is 938372222\nPhone number of Harry is 947663333\n"
    }
   ],
   "source": [
    "for name, number in phonebook.items():\n",
    "    print(\"Phone number of %s is %d\" % (name, number))"
   ]
  },
  {
   "cell_type": "code",
   "execution_count": 110,
   "metadata": {
    "tags": []
   },
   "outputs": [
    {
     "output_type": "stream",
     "name": "stdout",
     "text": "{'Dick': 938372222, 'Harry': 947663333}\n"
    }
   ],
   "source": [
    "del phonebook[\"Tom\"]\n",
    "print(phonebook)"
   ]
  },
  {
   "cell_type": "code",
   "execution_count": 111,
   "metadata": {
    "tags": []
   },
   "outputs": [
    {
     "output_type": "stream",
     "name": "stdout",
     "text": "{'Harry': 947663333}\n"
    }
   ],
   "source": [
    "phonebook.pop(\"Dick\")\n",
    "print(phonebook)"
   ]
  },
  {
   "cell_type": "code",
   "execution_count": 112,
   "metadata": {
    "tags": []
   },
   "outputs": [
    {
     "output_type": "stream",
     "name": "stdout",
     "text": "Jake is listed in the phonebook.\nJill is not listed in the phonebook.\n"
    }
   ],
   "source": [
    "phonebook = {\n",
    "    \"John\" : 938477566,\n",
    "    \"Jack\" : 938377264,\n",
    "    \"Jill\" : 947662781\n",
    "}\n",
    "\n",
    "phonebook[\"Jake\"] = 938273443\n",
    "\n",
    "del phonebook[\"Jill\"]\n",
    "\n",
    "if \"Jake\" in phonebook:\n",
    "    print(\"Jake is listed in the phonebook.\")\n",
    "if \"Jill\" not in phonebook:\n",
    "    print(\"Jill is not listed in the phonebook.\")"
   ]
  },
  {
   "cell_type": "code",
   "execution_count": 122,
   "metadata": {},
   "outputs": [],
   "source": [
    "import urllib"
   ]
  },
  {
   "cell_type": "code",
   "execution_count": 125,
   "metadata": {},
   "outputs": [
    {
     "output_type": "execute_result",
     "data": {
      "text/plain": "['__builtins__',\n '__cached__',\n '__doc__',\n '__file__',\n '__loader__',\n '__name__',\n '__package__',\n '__path__',\n '__spec__',\n 'error',\n 'parse',\n 'request',\n 'response']"
     },
     "metadata": {},
     "execution_count": 125
    }
   ],
   "source": [
    "dir(urllib)"
   ]
  },
  {
   "cell_type": "code",
   "execution_count": 134,
   "metadata": {
    "tags": [
     "outputPrepend"
    ]
   },
   "outputs": [
    {
     "output_type": "stream",
     "name": "stdout",
     "text": "xinBytes:\n     |  \n     |  _hostinfo\n     |  \n     |  _userinfo\n     |  \n     |  ----------------------------------------------------------------------\n     |  Readonly properties inherited from _NetlocResultMixinBase:\n     |  \n     |  hostname\n     |  \n     |  password\n     |  \n     |  port\n     |  \n     |  username\n     |  \n     |  ----------------------------------------------------------------------\n     |  Methods inherited from _ResultMixinBytes:\n     |  \n     |  decode(self, encoding='ascii', errors='strict')\n    \n    class SplitResult(SplitResult, _NetlocResultMixinStr)\n     |  SplitResult(scheme, netloc, path, query, fragment)\n     |  \n     |  SplitResult(scheme, netloc, path, query, fragment)\n     |  \n     |  A 5-tuple that contains the different components of a URL. Similar to\n     |  ParseResult, but does not split params.\n     |  \n     |  Method resolution order:\n     |      SplitResult\n     |      SplitResult\n     |      builtins.tuple\n     |      _NetlocResultMixinStr\n     |      _NetlocResultMixinBase\n     |      _ResultMixinStr\n     |      builtins.object\n     |  \n     |  Methods defined here:\n     |  \n     |  geturl(self)\n     |  \n     |  ----------------------------------------------------------------------\n     |  Data and other attributes defined here:\n     |  \n     |  _encoded_counterpart = <class 'urllib.parse.SplitResultBytes'>\n     |      SplitResult(scheme, netloc, path, query, fragment)\n     |      \n     |      A 5-tuple that contains the different components of a URL. Similar to\n     |      ParseResult, but does not split params.\n     |  \n     |  ----------------------------------------------------------------------\n     |  Methods inherited from SplitResult:\n     |  \n     |  __getnewargs__(self)\n     |      Return self as a plain tuple.  Used by copy and pickle.\n     |  \n     |  __repr__(self)\n     |      Return a nicely formatted representation string\n     |  \n     |  _asdict(self)\n     |      Return a new dict which maps field names to their values.\n     |  \n     |  _replace(self, /, **kwds)\n     |      Return a new SplitResult object replacing specified fields with new values\n     |  \n     |  ----------------------------------------------------------------------\n     |  Class methods inherited from SplitResult:\n     |  \n     |  _make(iterable) from builtins.type\n     |      Make a new SplitResult object from a sequence or iterable\n     |  \n     |  ----------------------------------------------------------------------\n     |  Static methods inherited from SplitResult:\n     |  \n     |  __new__(_cls, scheme, netloc, path, query, fragment)\n     |      Create new instance of SplitResult(scheme, netloc, path, query, fragment)\n     |  \n     |  ----------------------------------------------------------------------\n     |  Data descriptors inherited from SplitResult:\n     |  \n     |  scheme\n     |      Specifies URL scheme for the request.\n     |  \n     |  netloc\n     |      Network location where the request is made to.\n     |  \n     |  path\n     |      The hierarchical path, such as the path to a file to download.\n     |  \n     |  query\n     |      The query component, that contains non-hierarchical data, that along with data\n     |      in path component, identifies a resource in the scope of URI's scheme and\n     |      network location.\n     |  \n     |  fragment\n     |      Fragment identifier, that allows indirect identification of a secondary resource\n     |      by reference to a primary resource and additional identifying information.\n     |  \n     |  ----------------------------------------------------------------------\n     |  Data and other attributes inherited from SplitResult:\n     |  \n     |  _field_defaults = {}\n     |  \n     |  _fields = ('scheme', 'netloc', 'path', 'query', 'fragment')\n     |  \n     |  _fields_defaults = {}\n     |  \n     |  ----------------------------------------------------------------------\n     |  Methods inherited from builtins.tuple:\n     |  \n     |  __add__(self, value, /)\n     |      Return self+value.\n     |  \n     |  __contains__(self, key, /)\n     |      Return key in self.\n     |  \n     |  __eq__(self, value, /)\n     |      Return self==value.\n     |  \n     |  __ge__(self, value, /)\n     |      Return self>=value.\n     |  \n     |  __getattribute__(self, name, /)\n     |      Return getattr(self, name).\n     |  \n     |  __getitem__(self, key, /)\n     |      Return self[key].\n     |  \n     |  __gt__(self, value, /)\n     |      Return self>value.\n     |  \n     |  __hash__(self, /)\n     |      Return hash(self).\n     |  \n     |  __iter__(self, /)\n     |      Implement iter(self).\n     |  \n     |  __le__(self, value, /)\n     |      Return self<=value.\n     |  \n     |  __len__(self, /)\n     |      Return len(self).\n     |  \n     |  __lt__(self, value, /)\n     |      Return self<value.\n     |  \n     |  __mul__(self, value, /)\n     |      Return self*value.\n     |  \n     |  __ne__(self, value, /)\n     |      Return self!=value.\n     |  \n     |  __rmul__(self, value, /)\n     |      Return value*self.\n     |  \n     |  count(self, value, /)\n     |      Return number of occurrences of value.\n     |  \n     |  index(self, value, start=0, stop=9223372036854775807, /)\n     |      Return first index of value.\n     |      \n     |      Raises ValueError if the value is not present.\n     |  \n     |  ----------------------------------------------------------------------\n     |  Readonly properties inherited from _NetlocResultMixinStr:\n     |  \n     |  _hostinfo\n     |  \n     |  _userinfo\n     |  \n     |  ----------------------------------------------------------------------\n     |  Readonly properties inherited from _NetlocResultMixinBase:\n     |  \n     |  hostname\n     |  \n     |  password\n     |  \n     |  port\n     |  \n     |  username\n     |  \n     |  ----------------------------------------------------------------------\n     |  Methods inherited from _ResultMixinStr:\n     |  \n     |  encode(self, encoding='ascii', errors='strict')\n    \n    class SplitResultBytes(SplitResult, _NetlocResultMixinBytes)\n     |  SplitResultBytes(scheme, netloc, path, query, fragment)\n     |  \n     |  SplitResult(scheme, netloc, path, query, fragment)\n     |  \n     |  A 5-tuple that contains the different components of a URL. Similar to\n     |  ParseResult, but does not split params.\n     |  \n     |  Method resolution order:\n     |      SplitResultBytes\n     |      SplitResult\n     |      builtins.tuple\n     |      _NetlocResultMixinBytes\n     |      _NetlocResultMixinBase\n     |      _ResultMixinBytes\n     |      builtins.object\n     |  \n     |  Methods defined here:\n     |  \n     |  geturl(self)\n     |  \n     |  ----------------------------------------------------------------------\n     |  Data and other attributes defined here:\n     |  \n     |  _decoded_counterpart = <class 'urllib.parse.SplitResult'>\n     |      SplitResult(scheme, netloc, path, query, fragment)\n     |      \n     |      A 5-tuple that contains the different components of a URL. Similar to\n     |      ParseResult, but does not split params.\n     |  \n     |  ----------------------------------------------------------------------\n     |  Methods inherited from SplitResult:\n     |  \n     |  __getnewargs__(self)\n     |      Return self as a plain tuple.  Used by copy and pickle.\n     |  \n     |  __repr__(self)\n     |      Return a nicely formatted representation string\n     |  \n     |  _asdict(self)\n     |      Return a new dict which maps field names to their values.\n     |  \n     |  _replace(self, /, **kwds)\n     |      Return a new SplitResult object replacing specified fields with new values\n     |  \n     |  ----------------------------------------------------------------------\n     |  Class methods inherited from SplitResult:\n     |  \n     |  _make(iterable) from builtins.type\n     |      Make a new SplitResult object from a sequence or iterable\n     |  \n     |  ----------------------------------------------------------------------\n     |  Static methods inherited from SplitResult:\n     |  \n     |  __new__(_cls, scheme, netloc, path, query, fragment)\n     |      Create new instance of SplitResult(scheme, netloc, path, query, fragment)\n     |  \n     |  ----------------------------------------------------------------------\n     |  Data descriptors inherited from SplitResult:\n     |  \n     |  scheme\n     |      Specifies URL scheme for the request.\n     |  \n     |  netloc\n     |      Network location where the request is made to.\n     |  \n     |  path\n     |      The hierarchical path, such as the path to a file to download.\n     |  \n     |  query\n     |      The query component, that contains non-hierarchical data, that along with data\n     |      in path component, identifies a resource in the scope of URI's scheme and\n     |      network location.\n     |  \n     |  fragment\n     |      Fragment identifier, that allows indirect identification of a secondary resource\n     |      by reference to a primary resource and additional identifying information.\n     |  \n     |  ----------------------------------------------------------------------\n     |  Data and other attributes inherited from SplitResult:\n     |  \n     |  _field_defaults = {}\n     |  \n     |  _fields = ('scheme', 'netloc', 'path', 'query', 'fragment')\n     |  \n     |  _fields_defaults = {}\n     |  \n     |  ----------------------------------------------------------------------\n     |  Methods inherited from builtins.tuple:\n     |  \n     |  __add__(self, value, /)\n     |      Return self+value.\n     |  \n     |  __contains__(self, key, /)\n     |      Return key in self.\n     |  \n     |  __eq__(self, value, /)\n     |      Return self==value.\n     |  \n     |  __ge__(self, value, /)\n     |      Return self>=value.\n     |  \n     |  __getattribute__(self, name, /)\n     |      Return getattr(self, name).\n     |  \n     |  __getitem__(self, key, /)\n     |      Return self[key].\n     |  \n     |  __gt__(self, value, /)\n     |      Return self>value.\n     |  \n     |  __hash__(self, /)\n     |      Return hash(self).\n     |  \n     |  __iter__(self, /)\n     |      Implement iter(self).\n     |  \n     |  __le__(self, value, /)\n     |      Return self<=value.\n     |  \n     |  __len__(self, /)\n     |      Return len(self).\n     |  \n     |  __lt__(self, value, /)\n     |      Return self<value.\n     |  \n     |  __mul__(self, value, /)\n     |      Return self*value.\n     |  \n     |  __ne__(self, value, /)\n     |      Return self!=value.\n     |  \n     |  __rmul__(self, value, /)\n     |      Return value*self.\n     |  \n     |  count(self, value, /)\n     |      Return number of occurrences of value.\n     |  \n     |  index(self, value, start=0, stop=9223372036854775807, /)\n     |      Return first index of value.\n     |      \n     |      Raises ValueError if the value is not present.\n     |  \n     |  ----------------------------------------------------------------------\n     |  Readonly properties inherited from _NetlocResultMixinBytes:\n     |  \n     |  _hostinfo\n     |  \n     |  _userinfo\n     |  \n     |  ----------------------------------------------------------------------\n     |  Readonly properties inherited from _NetlocResultMixinBase:\n     |  \n     |  hostname\n     |  \n     |  password\n     |  \n     |  port\n     |  \n     |  username\n     |  \n     |  ----------------------------------------------------------------------\n     |  Methods inherited from _ResultMixinBytes:\n     |  \n     |  decode(self, encoding='ascii', errors='strict')\n\nFUNCTIONS\n    parse_qs(qs, keep_blank_values=False, strict_parsing=False, encoding='utf-8', errors='replace', max_num_fields=None)\n        Parse a query given as a string argument.\n        \n        Arguments:\n        \n        qs: percent-encoded query string to be parsed\n        \n        keep_blank_values: flag indicating whether blank values in\n            percent-encoded queries should be treated as blank strings.\n            A true value indicates that blanks should be retained as\n            blank strings.  The default false value indicates that\n            blank values are to be ignored and treated as if they were\n            not included.\n        \n        strict_parsing: flag indicating what to do with parsing errors.\n            If false (the default), errors are silently ignored.\n            If true, errors raise a ValueError exception.\n        \n        encoding and errors: specify how to decode percent-encoded sequences\n            into Unicode characters, as accepted by the bytes.decode() method.\n        \n        max_num_fields: int. If set, then throws a ValueError if there\n            are more than n fields read by parse_qsl().\n        \n        Returns a dictionary.\n    \n    parse_qsl(qs, keep_blank_values=False, strict_parsing=False, encoding='utf-8', errors='replace', max_num_fields=None)\n        Parse a query given as a string argument.\n        \n        Arguments:\n        \n        qs: percent-encoded query string to be parsed\n        \n        keep_blank_values: flag indicating whether blank values in\n            percent-encoded queries should be treated as blank strings.\n            A true value indicates that blanks should be retained as blank\n            strings.  The default false value indicates that blank values\n            are to be ignored and treated as if they were  not included.\n        \n        strict_parsing: flag indicating what to do with parsing errors. If\n            false (the default), errors are silently ignored. If true,\n            errors raise a ValueError exception.\n        \n        encoding and errors: specify how to decode percent-encoded sequences\n            into Unicode characters, as accepted by the bytes.decode() method.\n        \n        max_num_fields: int. If set, then throws a ValueError\n            if there are more than n fields read by parse_qsl().\n        \n        Returns a list, as G-d intended.\n    \n    quote(string, safe='/', encoding=None, errors=None)\n        quote('abc def') -> 'abc%20def'\n        \n        Each part of a URL, e.g. the path info, the query, etc., has a\n        different set of reserved characters that must be quoted. The\n        quote function offers a cautious (not minimal) way to quote a\n        string for most of these parts.\n        \n        RFC 3986 Uniform Resource Identifier (URI): Generic Syntax lists\n        the following (un)reserved characters.\n        \n        unreserved    = ALPHA / DIGIT / \"-\" / \".\" / \"_\" / \"~\"\n        reserved      = gen-delims / sub-delims\n        gen-delims    = \":\" / \"/\" / \"?\" / \"#\" / \"[\" / \"]\" / \"@\"\n        sub-delims    = \"!\" / \"$\" / \"&\" / \"'\" / \"(\" / \")\"\n                      / \"*\" / \"+\" / \",\" / \";\" / \"=\"\n        \n        Each of the reserved characters is reserved in some component of a URL,\n        but not necessarily in all of them.\n        \n        The quote function %-escapes all characters that are neither in the\n        unreserved chars (\"always safe\") nor the additional chars set via the\n        safe arg.\n        \n        The default for the safe arg is '/'. The character is reserved, but in\n        typical usage the quote function is being called on a path where the\n        existing slash characters are to be preserved.\n        \n        Python 3.7 updates from using RFC 2396 to RFC 3986 to quote URL strings.\n        Now, \"~\" is included in the set of unreserved characters.\n        \n        string and safe may be either str or bytes objects. encoding and errors\n        must not be specified if string is a bytes object.\n        \n        The optional encoding and errors parameters specify how to deal with\n        non-ASCII characters, as accepted by the str.encode method.\n        By default, encoding='utf-8' (characters are encoded with UTF-8), and\n        errors='strict' (unsupported characters raise a UnicodeEncodeError).\n    \n    quote_from_bytes(bs, safe='/')\n        Like quote(), but accepts a bytes object rather than a str, and does\n        not perform string-to-bytes encoding.  It always returns an ASCII string.\n        quote_from_bytes(b'abc def?') -> 'abc%20def%3f'\n    \n    quote_plus(string, safe='', encoding=None, errors=None)\n        Like quote(), but also replace ' ' with '+', as required for quoting\n        HTML form values. Plus signs in the original string are escaped unless\n        they are included in safe. It also does not have safe default to '/'.\n    \n    unquote(string, encoding='utf-8', errors='replace')\n        Replace %xx escapes by their single-character equivalent. The optional\n        encoding and errors parameters specify how to decode percent-encoded\n        sequences into Unicode characters, as accepted by the bytes.decode()\n        method.\n        By default, percent-encoded sequences are decoded with UTF-8, and invalid\n        sequences are replaced by a placeholder character.\n        \n        unquote('abc%20def') -> 'abc def'.\n    \n    unquote_plus(string, encoding='utf-8', errors='replace')\n        Like unquote(), but also replace plus signs by spaces, as required for\n        unquoting HTML form values.\n        \n        unquote_plus('%7e/abc+def') -> '~/abc def'\n    \n    unquote_to_bytes(string)\n        unquote_to_bytes('abc%20def') -> b'abc def'.\n    \n    urldefrag(url)\n        Removes any existing fragment from URL.\n        \n        Returns a tuple of the defragmented URL and the fragment.  If\n        the URL contained no fragments, the second element is the\n        empty string.\n    \n    urlencode(query, doseq=False, safe='', encoding=None, errors=None, quote_via=<function quote_plus at 0x000001E4FA4A99D0>)\n        Encode a dict or sequence of two-element tuples into a URL query string.\n        \n        If any values in the query arg are sequences and doseq is true, each\n        sequence element is converted to a separate parameter.\n        \n        If the query arg is a sequence of two-element tuples, the order of the\n        parameters in the output will match the order of parameters in the\n        input.\n        \n        The components of a query arg may each be either a string or a bytes type.\n        \n        The safe, encoding, and errors parameters are passed down to the function\n        specified by quote_via (encoding and errors only if a component is a str).\n    \n    urljoin(base, url, allow_fragments=True)\n        Join a base URL and a possibly relative URL to form an absolute\n        interpretation of the latter.\n    \n    urlparse(url, scheme='', allow_fragments=True)\n        Parse a URL into 6 components:\n        <scheme>://<netloc>/<path>;<params>?<query>#<fragment>\n        Return a 6-tuple: (scheme, netloc, path, params, query, fragment).\n        Note that we don't break the components up in smaller bits\n        (e.g. netloc is a single string) and we don't expand % escapes.\n    \n    urlsplit(url, scheme='', allow_fragments=True)\n        Parse a URL into 5 components:\n        <scheme>://<netloc>/<path>?<query>#<fragment>\n        Return a 5-tuple: (scheme, netloc, path, query, fragment).\n        Note that we don't break the components up in smaller bits\n        (e.g. netloc is a single string) and we don't expand % escapes.\n    \n    urlunparse(components)\n        Put a parsed URL back together again.  This may result in a\n        slightly different, but equivalent URL, if the URL that was parsed\n        originally had redundant delimiters, e.g. a ? with an empty query\n        (the draft states that these are equivalent).\n    \n    urlunsplit(components)\n        Combine the elements of a tuple as returned by urlsplit() into a\n        complete URL as a string. The data argument can be any five-item iterable.\n        This may result in a slightly different, but equivalent URL, if the URL that\n        was parsed originally had unnecessary delimiters (for example, a ? with an\n        empty query; the RFC states that these are equivalent).\n\nDATA\n    __all__ = ['urlparse', 'urlunparse', 'urljoin', 'urldefrag', 'urlsplit...\n\nFILE\n    c:\\users\\john\\anaconda3\\envs\\basics\\lib\\urllib\\parse.py\n\n\n"
    }
   ],
   "source": [
    "help(urllib.parse)"
   ]
  },
  {
   "cell_type": "code",
   "execution_count": 127,
   "metadata": {},
   "outputs": [],
   "source": [
    "import re"
   ]
  },
  {
   "cell_type": "code",
   "execution_count": 129,
   "metadata": {},
   "outputs": [],
   "source": [
    "functions = dir(re)"
   ]
  },
  {
   "cell_type": "code",
   "execution_count": 133,
   "metadata": {
    "tags": []
   },
   "outputs": [
    {
     "output_type": "stream",
     "name": "stdout",
     "text": "findall\nfinditer\n"
    }
   ],
   "source": [
    "for function in functions:\n",
    "    if \"find\" in function:\n",
    "        print(function)"
   ]
  },
  {
   "cell_type": "code",
   "execution_count": 142,
   "metadata": {},
   "outputs": [
    {
     "output_type": "error",
     "ename": "SyntaxError",
     "evalue": "invalid syntax (<ipython-input-142-6ee4a489db4d>, line 1)",
     "traceback": [
      "\u001b[1;36m  File \u001b[1;32m\"<ipython-input-142-6ee4a489db4d>\"\u001b[1;36m, line \u001b[1;32m1\u001b[0m\n\u001b[1;33m    PYTHONPATH=/foo python game.py\u001b[0m\n\u001b[1;37m               ^\u001b[0m\n\u001b[1;31mSyntaxError\u001b[0m\u001b[1;31m:\u001b[0m invalid syntax\n"
     ]
    }
   ],
   "source": [
    "PYTHONPATH=/foo python game.py"
   ]
  },
  {
   "cell_type": "code",
   "execution_count": 143,
   "metadata": {},
   "outputs": [],
   "source": [
    "import foo.bar"
   ]
  },
  {
   "cell_type": "code",
   "execution_count": 144,
   "metadata": {},
   "outputs": [],
   "source": [
    "from foo import bar"
   ]
  },
  {
   "cell_type": "code",
   "execution_count": 146,
   "metadata": {},
   "outputs": [
    {
     "output_type": "error",
     "ename": "ModuleNotFoundError",
     "evalue": "No module named 'foo.all'",
     "traceback": [
      "\u001b[1;31m---------------------------------------------------------------------------\u001b[0m",
      "\u001b[1;31mModuleNotFoundError\u001b[0m                       Traceback (most recent call last)",
      "\u001b[1;32m<ipython-input-146-128b8a3cf45e>\u001b[0m in \u001b[0;36m<module>\u001b[1;34m\u001b[0m\n\u001b[1;32m----> 1\u001b[1;33m \u001b[1;32mimport\u001b[0m \u001b[0mfoo\u001b[0m\u001b[1;33m.\u001b[0m\u001b[0mall\u001b[0m\u001b[1;33m\u001b[0m\u001b[1;33m\u001b[0m\u001b[0m\n\u001b[0m",
      "\u001b[1;31mModuleNotFoundError\u001b[0m: No module named 'foo.all'"
     ]
    }
   ],
   "source": [
    "import foo.all"
   ]
  },
  {
   "cell_type": "code",
   "execution_count": null,
   "metadata": {},
   "outputs": [],
   "source": []
  }
 ],
 "metadata": {
  "kernelspec": {
   "display_name": "Basics",
   "language": "python",
   "name": "basics"
  },
  "language_info": {
   "codemirror_mode": {
    "name": "ipython",
    "version": 3
   },
   "file_extension": ".py",
   "mimetype": "text/x-python",
   "name": "python",
   "nbconvert_exporter": "python",
   "pygments_lexer": "ipython3",
   "version": "3.8.5-final"
  }
 },
 "nbformat": 4,
 "nbformat_minor": 2
}